{
 "cells": [
  {
   "cell_type": "code",
   "execution_count": 1,
   "metadata": {
    "collapsed": true
   },
   "outputs": [
    {
     "data": {
      "text/plain": "           Author                                 Line\n0     Борис Рыжий             и как это лучше сказать:\n1  Дмитрий Пригов                       На меня страна\n2  Дмитрий Пригов        А в общем-то — судьбы игрушка\n3     Борис Рыжий                     мая второго дня.\n4     Борис Рыжий       в свете всех светофоров и фар.\n5  Дмитрий Пригов                А уж как, едрена мать\n6  Дмитрий Пригов  Но он не поддался и на эту хитрость\n7     Борис Рыжий                 лучше рылом в грязь.\n8  Дмитрий Пригов       Случайность вроде бы, казалось\n9  Дмитрий Пригов                  Сам немножечко поел",
      "text/html": "<div>\n<style scoped>\n    .dataframe tbody tr th:only-of-type {\n        vertical-align: middle;\n    }\n\n    .dataframe tbody tr th {\n        vertical-align: top;\n    }\n\n    .dataframe thead th {\n        text-align: right;\n    }\n</style>\n<table border=\"1\" class=\"dataframe\">\n  <thead>\n    <tr style=\"text-align: right;\">\n      <th></th>\n      <th>Author</th>\n      <th>Line</th>\n    </tr>\n  </thead>\n  <tbody>\n    <tr>\n      <th>0</th>\n      <td>Борис Рыжий</td>\n      <td>и как это лучше сказать:</td>\n    </tr>\n    <tr>\n      <th>1</th>\n      <td>Дмитрий Пригов</td>\n      <td>На меня страна</td>\n    </tr>\n    <tr>\n      <th>2</th>\n      <td>Дмитрий Пригов</td>\n      <td>А в общем-то — судьбы игрушка</td>\n    </tr>\n    <tr>\n      <th>3</th>\n      <td>Борис Рыжий</td>\n      <td>мая второго дня.</td>\n    </tr>\n    <tr>\n      <th>4</th>\n      <td>Борис Рыжий</td>\n      <td>в свете всех светофоров и фар.</td>\n    </tr>\n    <tr>\n      <th>5</th>\n      <td>Дмитрий Пригов</td>\n      <td>А уж как, едрена мать</td>\n    </tr>\n    <tr>\n      <th>6</th>\n      <td>Дмитрий Пригов</td>\n      <td>Но он не поддался и на эту хитрость</td>\n    </tr>\n    <tr>\n      <th>7</th>\n      <td>Борис Рыжий</td>\n      <td>лучше рылом в грязь.</td>\n    </tr>\n    <tr>\n      <th>8</th>\n      <td>Дмитрий Пригов</td>\n      <td>Случайность вроде бы, казалось</td>\n    </tr>\n    <tr>\n      <th>9</th>\n      <td>Дмитрий Пригов</td>\n      <td>Сам немножечко поел</td>\n    </tr>\n  </tbody>\n</table>\n</div>"
     },
     "execution_count": 1,
     "metadata": {},
     "output_type": "execute_result"
    }
   ],
   "source": [
    "import string\n",
    "\n",
    "import pandas as pd\n",
    "from collections import Counter\n",
    "\n",
    "from sklearn.feature_extraction.text import CountVectorizer\n",
    "from sklearn.model_selection import train_test_split\n",
    "from sklearn.metrics import accuracy_score, confusion_matrix, ConfusionMatrixDisplay, f1_score\n",
    "from sklearn.linear_model import LogisticRegression\n",
    "\n",
    "df = pd.read_csv('data/poems.csv')\n",
    "\n",
    "df.head(10)"
   ]
  },
  {
   "cell_type": "code",
   "execution_count": 2,
   "outputs": [
    {
     "data": {
      "text/plain": "           Author                           Line\n0     Борис Рыжий        и как это лучше сказать\n1  Дмитрий Пригов                 На меня страна\n2  Дмитрий Пригов     А в общемто судьбы игрушка\n3     Борис Рыжий                мая второго дня\n4     Борис Рыжий  в свете всех светофоров и фар",
      "text/html": "<div>\n<style scoped>\n    .dataframe tbody tr th:only-of-type {\n        vertical-align: middle;\n    }\n\n    .dataframe tbody tr th {\n        vertical-align: top;\n    }\n\n    .dataframe thead th {\n        text-align: right;\n    }\n</style>\n<table border=\"1\" class=\"dataframe\">\n  <thead>\n    <tr style=\"text-align: right;\">\n      <th></th>\n      <th>Author</th>\n      <th>Line</th>\n    </tr>\n  </thead>\n  <tbody>\n    <tr>\n      <th>0</th>\n      <td>Борис Рыжий</td>\n      <td>и как это лучше сказать</td>\n    </tr>\n    <tr>\n      <th>1</th>\n      <td>Дмитрий Пригов</td>\n      <td>На меня страна</td>\n    </tr>\n    <tr>\n      <th>2</th>\n      <td>Дмитрий Пригов</td>\n      <td>А в общемто судьбы игрушка</td>\n    </tr>\n    <tr>\n      <th>3</th>\n      <td>Борис Рыжий</td>\n      <td>мая второго дня</td>\n    </tr>\n    <tr>\n      <th>4</th>\n      <td>Борис Рыжий</td>\n      <td>в свете всех светофоров и фар</td>\n    </tr>\n  </tbody>\n</table>\n</div>"
     },
     "execution_count": 2,
     "metadata": {},
     "output_type": "execute_result"
    }
   ],
   "source": [
    "# remove punctuation\n",
    "df['Line'] = df['Line'].apply(\n",
    "    lambda s: str(s).translate(\n",
    "        str.maketrans('', '', string.punctuation + '—')\n",
    "    )\n",
    ")\n",
    "df['Line'] = df['Line'].apply(\n",
    "    lambda s: str(s).replace(\"  \", \" \")\n",
    ")\n",
    "\n",
    "df.head()"
   ],
   "metadata": {
    "collapsed": false
   }
  },
  {
   "cell_type": "code",
   "execution_count": 3,
   "outputs": [
    {
     "data": {
      "text/plain": "['и', 'в', 'не', 'я', 'а', 'на', 'что', 'с', 'вот', 'как']"
     },
     "execution_count": 3,
     "metadata": {},
     "output_type": "execute_result"
    }
   ],
   "source": [
    "# find most common words\n",
    "lines = [str(l).lower().split() for l in df['Line']]\n",
    "words = []\n",
    "for l in lines:\n",
    "    words += l\n",
    "\n",
    "common_counter = Counter(words).most_common(10)\n",
    "common = [w for w, _ in common_counter]\n",
    "common"
   ],
   "metadata": {
    "collapsed": false
   }
  },
  {
   "cell_type": "code",
   "execution_count": 4,
   "outputs": [
    {
     "data": {
      "text/plain": "           Author                       Line\n0     Борис Рыжий          это лучше сказать\n1  Дмитрий Пригов                меня страна\n2  Дмитрий Пригов     общемто судьбы игрушка\n3     Борис Рыжий            мая второго дня\n4     Борис Рыжий  свете всех светофоров фар",
      "text/html": "<div>\n<style scoped>\n    .dataframe tbody tr th:only-of-type {\n        vertical-align: middle;\n    }\n\n    .dataframe tbody tr th {\n        vertical-align: top;\n    }\n\n    .dataframe thead th {\n        text-align: right;\n    }\n</style>\n<table border=\"1\" class=\"dataframe\">\n  <thead>\n    <tr style=\"text-align: right;\">\n      <th></th>\n      <th>Author</th>\n      <th>Line</th>\n    </tr>\n  </thead>\n  <tbody>\n    <tr>\n      <th>0</th>\n      <td>Борис Рыжий</td>\n      <td>это лучше сказать</td>\n    </tr>\n    <tr>\n      <th>1</th>\n      <td>Дмитрий Пригов</td>\n      <td>меня страна</td>\n    </tr>\n    <tr>\n      <th>2</th>\n      <td>Дмитрий Пригов</td>\n      <td>общемто судьбы игрушка</td>\n    </tr>\n    <tr>\n      <th>3</th>\n      <td>Борис Рыжий</td>\n      <td>мая второго дня</td>\n    </tr>\n    <tr>\n      <th>4</th>\n      <td>Борис Рыжий</td>\n      <td>свете всех светофоров фар</td>\n    </tr>\n  </tbody>\n</table>\n</div>"
     },
     "execution_count": 4,
     "metadata": {},
     "output_type": "execute_result"
    }
   ],
   "source": [
    "# linearize\n",
    "def remove_common(s: str) -> str:\n",
    "    new_s = s.lower()\n",
    "    for w in common:\n",
    "        if new_s.startswith(w + ' '):\n",
    "            new_s = new_s[len(w) + 1:]\n",
    "        if new_s.endswith(' ' + w):\n",
    "            new_s = new_s[:-(len(w) + 1)]\n",
    "        new_s = new_s.replace(' ' + w + ' ', \" \")\n",
    "    return new_s\n",
    "\n",
    "df['Line'] = df['Line'].apply(remove_common)\n",
    "\n",
    "df.head()"
   ],
   "metadata": {
    "collapsed": false
   }
  },
  {
   "cell_type": "code",
   "execution_count": 5,
   "outputs": [
    {
     "name": "stdout",
     "output_type": "stream",
     "text": [
      "accuracy: 0.6987951807228916\n",
      "F-score: 0.6666666666666667\n"
     ]
    }
   ],
   "source": [
    "# predict\n",
    "vec = CountVectorizer().fit_transform(df.Line)\n",
    "train_x, test_x, train_y, test_y = train_test_split(vec, df.Author, train_size=0.8)\n",
    "\n",
    "model = LogisticRegression(max_iter=1000)\n",
    "model.fit(train_x, train_y)\n",
    "prediction = model.predict(test_x)\n",
    "\n",
    "print(\"accuracy:\", accuracy_score(test_y, prediction))\n",
    "print(\"F-score:\", f1_score(test_y, prediction, pos_label=\"Борис Рыжий\"))"
   ],
   "metadata": {
    "collapsed": false
   }
  },
  {
   "cell_type": "code",
   "execution_count": 6,
   "outputs": [
    {
     "data": {
      "text/plain": "<sklearn.metrics._plot.confusion_matrix.ConfusionMatrixDisplay at 0x16eff0e8700>"
     },
     "execution_count": 6,
     "metadata": {},
     "output_type": "execute_result"
    },
    {
     "data": {
      "text/plain": "<Figure size 640x480 with 2 Axes>",
      "image/png": "[encoded data removed]"
     },
     "metadata": {},
     "output_type": "display_data"
    }
   ],
   "source": [
    "cm = confusion_matrix(test_y, prediction)\n",
    "display = ConfusionMatrixDisplay(confusion_matrix = cm)\n",
    "display.plot()"
   ],
   "metadata": {
    "collapsed": false
   }
  },
  {
   "cell_type": "code",
   "execution_count": 6,
   "outputs": [],
   "source": [],
   "metadata": {
    "collapsed": false
   }
  }
 ],
 "metadata": {
  "kernelspec": {
   "display_name": "Python 3",
   "language": "python",
   "name": "python3"
  },
  "language_info": {
   "codemirror_mode": {
    "name": "ipython",
    "version": 2
   },
   "file_extension": ".py",
   "mimetype": "text/x-python",
   "name": "python",
   "nbconvert_exporter": "python",
   "pygments_lexer": "ipython2",
   "version": "2.7.6"
  }
 },
 "nbformat": 4,
 "nbformat_minor": 0
}
